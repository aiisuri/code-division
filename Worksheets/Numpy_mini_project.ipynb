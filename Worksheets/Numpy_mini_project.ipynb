{
  "nbformat": 4,
  "nbformat_minor": 0,
  "metadata": {
    "colab": {
      "name": "Numpy mini-project.ipynb",
      "provenance": [],
      "collapsed_sections": [],
      "include_colab_link": true
    },
    "kernelspec": {
      "name": "python3",
      "display_name": "Python 3"
    },
    "language_info": {
      "name": "python"
    }
  },
  "cells": [
    {
      "cell_type": "markdown",
      "metadata": {
        "id": "view-in-github",
        "colab_type": "text"
      },
      "source": [
        "<a href=\"https://colab.research.google.com/github/aiisuri/code-division/blob/main/Worksheets/Numpy_mini_project.ipynb\" target=\"_parent\"><img src=\"https://colab.research.google.com/assets/colab-badge.svg\" alt=\"Open In Colab\"/></a>"
      ]
    },
    {
      "cell_type": "markdown",
      "source": [
        "# Investigate, wrangle, add new data to the dataframe, filter and correlate\n",
        "\n",
        "The following data file contains data about student scores in math, reading and writing.  The exam scores are assumed to be percentages. It also contains data about gender, ethnicity, parental education, whether the student qualifies for free school food and whether or not the student has taken a preparation course for the exams.  The data set has already been cleaned. \n",
        "\n",
        "1.  Investigate the data set.\n",
        "\n",
        "2.  Create numpy arrays to hold each of the three sets of scores.  \n",
        "Create a new numpy array to hold the average exam score (of the three scores for each student)\n",
        "Add the new numpy array as a new column in the dataframe.\n",
        "\n",
        "3.  Filter the original dataset into a new dataframe containing just the females.  Calculate the average exam scores for all rows in this new dataframe and then find the mean of the average column.\n",
        "\n",
        "4.  Do the same for the males.\n",
        "\n",
        "5.  Use the original dataset to find the correlation coefficient for reading and maths.  How closely do they correlate?  Write what you find in a text box below the code.\n",
        "\n",
        "6.  Do the same for reading and writing. What do you find?\n",
        "\n",
        "7.  You might want to filter on different criteria and check correlation (e.g. those on free school meals, or those who had prepared, etc)\n",
        "\n",
        "\n",
        "\n",
        "\n",
        "\n"
      ],
      "metadata": {
        "id": "8qnlsapq24Df"
      }
    },
    {
      "cell_type": "markdown",
      "source": [
        "The dataset can be accessed here:  https://raw.githubusercontent.com/lilaceri/Working-with-data-/main/Data%20Sets%20for%20code%20divisio/exams.csv.  This is a .csv file.\n",
        "\n",
        "**NOTE:** Some useful references are included at the bottom of this spreadsheet.\n",
        "\n",
        "Use the code cell below to work your code."
      ],
      "metadata": {
        "id": "SSvLiFnp4LjG"
      }
    },
    {
      "cell_type": "code",
      "source": [
        "import pandas as pd\n",
        "import numpy as np\n",
        "url = \"https://raw.githubusercontent.com/lilaceri/Working-with-data-/main/Data%20Sets%20for%20code%20divisio/exams.csv\"\n",
        "df = pd.read_csv(url)\n",
        "#df.info()\n",
        "#display(df)\n",
        "def test_scores():\n",
        "  #Create numpy arrays to hold each of the three sets of scores.\n",
        "  math = df['math_score'].to_numpy(np.int32)\n",
        "  reading = df['reading_score'].to_numpy(np.int32)\n",
        "  writing = df['writing_score'].to_numpy(np.int32)\n",
        "  three_scores = math, reading, writing\n",
        "  return three_scores\n",
        "\n",
        "test_scores()\n",
        "\n",
        "def mean_score(three_scores):\n",
        "  #Create a new numpy array to hold the average exam score (of the three scores for each student)\n",
        "  #Add the new numpy array as a new column in the dataframe.\n",
        "  avg_score = three_scores.mean()\n",
        "  df['avg_score'] = avg_score.tolist()\n",
        "  return avg_score\n",
        "\n",
        "mean_score(three_scores)\n",
        "\n",
        "  #Filter the original dataset into a new dataframe containing just the females. \n",
        "  #Calculate the average exam scores for all rows in this new dataframe \n",
        "def female_scores():\n",
        "  f_df = df['gender' == 'female']\n",
        "  f_math  = f_df['math_score'].to_numpy(np.int32)\n",
        "  f_reading = f_df['reading_score'].to_numpy(np.int32)\n",
        "  f_writing = f_df['writing_score'].to_numpy(np.int32)\n",
        "  f_three_scores = f_math,f_reading,f_writing\n",
        "  return f_three_scores\n",
        "  #and then find the mean of the average column.\n",
        "  f_avg_score = f_three_scores.mean()\n",
        "  return f_avg_score\n",
        "\n",
        "female_scores()\n",
        "\n",
        "  #Do the same for male\n",
        "def male_scores():\n",
        "  m_df = df['gender' == 'male']\n",
        "  m_math  = m_df['math_score'].to_numpy(np.int32)\n",
        "  m_reading = m_df['reading_score'].to_numpy(np.int32)\n",
        "  m_writing = m_df['writing_score'].to_numpy(np.int32)\n",
        "  m_three_scores = m_math,m_reading,m_writing\n",
        "  return m_three_scores\n",
        "\n",
        "  #and then find the mean of the average column.\n",
        "  f_avg_score = f_three_scores.mean()\n",
        "  return m_avg_score\n",
        "male_scores()\n",
        "\n",
        "  #Use the original dataset to find the correlation coefficient for reading and maths.\n",
        "  #How closely do they correlate? Write what you find in a text box below the code.\n",
        "def correlation():\n",
        "  coef = np.corrcoef(reading,math)\n",
        "  print(coef)\n",
        "\n",
        "  coef_2 = np.corrcoef(reading,writing)\n",
        "  print(coef_2)\n",
        "\n",
        "\n"
      ],
      "metadata": {
        "id": "txM4TIRUHhsJ",
        "colab": {
          "base_uri": "https://localhost:8080/",
          "height": 240
        },
        "outputId": "20fda495-c45c-4b6a-dd7d-27fe22ba8b87"
      },
      "execution_count": 25,
      "outputs": [
        {
          "output_type": "error",
          "ename": "NameError",
          "evalue": "ignored",
          "traceback": [
            "\u001b[0;31m---------------------------------------------------------------------------\u001b[0m",
            "\u001b[0;31mNameError\u001b[0m                                 Traceback (most recent call last)",
            "\u001b[0;32m<ipython-input-25-48e6cbe15db7>\u001b[0m in \u001b[0;36m<module>\u001b[0;34m()\u001b[0m\n\u001b[1;32m     22\u001b[0m   \u001b[0;32mreturn\u001b[0m \u001b[0mavg_score\u001b[0m\u001b[0;34m\u001b[0m\u001b[0;34m\u001b[0m\u001b[0m\n\u001b[1;32m     23\u001b[0m \u001b[0;34m\u001b[0m\u001b[0m\n\u001b[0;32m---> 24\u001b[0;31m \u001b[0mmean_score\u001b[0m\u001b[0;34m(\u001b[0m\u001b[0mthree_scores\u001b[0m\u001b[0;34m)\u001b[0m\u001b[0;34m\u001b[0m\u001b[0;34m\u001b[0m\u001b[0m\n\u001b[0m\u001b[1;32m     25\u001b[0m \u001b[0;34m\u001b[0m\u001b[0m\n\u001b[1;32m     26\u001b[0m   \u001b[0;31m#Filter the original dataset into a new dataframe containing just the females.\u001b[0m\u001b[0;34m\u001b[0m\u001b[0;34m\u001b[0m\u001b[0;34m\u001b[0m\u001b[0m\n",
            "\u001b[0;31mNameError\u001b[0m: name 'three_scores' is not defined"
          ]
        }
      ]
    },
    {
      "cell_type": "markdown",
      "source": [
        "### Helpful references\n",
        "---\n",
        "\n",
        "Filtering on criteria using df references:  \n",
        "`filtered_df = df[df['column name' == value]]`  \n",
        "\n",
        "Filtering on multiple criteria using df reference:  \n",
        "`filtered_df = df[df['first column name' == value] & df[second column name] >= value]`\n",
        "\n",
        "Numpy help sheet:  http://datacamp-community-prod.s3.amazonaws.com/da466534-51fe-4c6d-b0cb-154f4782eb54\n",
        "\n"
      ],
      "metadata": {
        "id": "hkj-Ofus_D6_"
      }
    }
  ]
}