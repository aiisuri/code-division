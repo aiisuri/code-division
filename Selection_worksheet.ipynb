{
  "nbformat": 4,
  "nbformat_minor": 0,
  "metadata": {
    "colab": {
      "name": "Selection worksheet.ipynb",
      "provenance": [],
      "collapsed_sections": []
    },
    "kernelspec": {
      "name": "python3",
      "display_name": "Python 3"
    }
  },
  "cells": [
    {
      "cell_type": "markdown",
      "metadata": {
        "id": "GhX3Slbcp0ZV"
      },
      "source": [
        "## Selection (if...elif...else)\n",
        "\n",
        "---\n"
      ]
    },
    {
      "cell_type": "markdown",
      "metadata": {
        "id": "8hOKtaP7p8Nj"
      },
      "source": [
        "A key part of problem solving is decision making.  Decisions are based on data and have a set of outcomes depending on that data.\n",
        "\n",
        "A program is a sequence of instructions to be followed by the computer, to solve a particular problem.    \n",
        "\n",
        "It is not always useful for programs to do the exact same thing every time, in exactly the same way.  \n",
        "\n",
        "Say we have a program that will tell someone if they are too young to drive a car. We don't want it to tell them this if they are over 17. So we use an if statement to say: if the user's age is less than 17, tell them they are too young to drive a car.\n",
        "\n",
        "Run the code in the cell below to see if it works for the years 2006 and 2000"
      ]
    },
    {
      "cell_type": "code",
      "metadata": {
        "id": "kVSTvk8ZtJkG",
        "outputId": "5038d7d5-7b98-4c78-e17a-2fe13ad917b3",
        "colab": {
          "base_uri": "https://localhost:8080/"
        }
      },
      "source": [
        "from datetime import datetime\n",
        "\n",
        "# determine if user is old enough to drive\n",
        "def drive_age():\n",
        "    birth_year = int(input(\"What year were you born?\"))  \n",
        "    current_year = datetime.now().year  \n",
        "    age = current_year - birth_year  \n",
        "    if age < 17:\n",
        "        print(\"You are too young to drive a car\")\n",
        "\n",
        "drive_age()"
      ],
      "execution_count": 2,
      "outputs": [
        {
          "name": "stdout",
          "output_type": "stream",
          "text": [
            "What year were you born?2000\n"
          ]
        }
      ]
    },
    {
      "cell_type": "markdown",
      "metadata": {
        "id": "ZRdkf0RTtjCE"
      },
      "source": [
        "---\n",
        "## Using else    \n",
        "\n",
        "So the program tells someone if they are too young to drive but if they are old enough it doesn't do anything. We need to give it an alternative action.  \n",
        "\n",
        "Run the code in the cell below to see if it works for the years 2006 and 2000  "
      ]
    },
    {
      "cell_type": "code",
      "metadata": {
        "id": "2kWB9YtbuB5G",
        "outputId": "f07765d3-2076-4959-dc23-91de99b01614",
        "colab": {
          "base_uri": "https://localhost:8080/"
        }
      },
      "source": [
        "from datetime import datetime   \n",
        "\n",
        "# determine if user is old enough to drive or not\n",
        "def drive_age():\n",
        "    birth_year = int(input(\"What year were you born?\"))  \n",
        "    current_year = datetime.now().year  \n",
        "    age = current_year - birth_year  \n",
        "    if age < 17:\n",
        "        print(\"You are too young to drive a car\")\n",
        "    else:\n",
        "        print(\"You are old enough to drive a car\")\n",
        "\n",
        "drive_age()"
      ],
      "execution_count": 3,
      "outputs": [
        {
          "output_type": "stream",
          "name": "stdout",
          "text": [
            "What year were you born?2000\n",
            "You are old enough to drive a car\n"
          ]
        }
      ]
    },
    {
      "cell_type": "markdown",
      "metadata": {
        "id": "5_czxkMEuIBk"
      },
      "source": [
        "So an if statement is written like this:  \n",
        "\n",
        "```\n",
        "if A CONDITION IS TRUE :  \n",
        "  DO SOMETHING  \n",
        "else:  \n",
        "  DO SOMETHING ELSE\n",
        "```\n",
        "\n",
        "\n",
        "Important things to know:  \n",
        "\n",
        "A CONDITION can be *True* or *False* either because it is a boolean variable (storing the value True or False) or because it is using some form of comparison or logical operator:\n",
        "\n",
        "age < 17\n",
        "This is *True* if the value of **age** is less than 17 and *False* if the value of age is 17 or above\n",
        "\n",
        "name == \"Bill\"\n",
        "This is *True* if the value of the variable **name** is \"Bill\" and *False* if the value is any other name\n",
        "\n",
        "height >= 150\n",
        "This is *True* if the value of **height** is greater than, or equal to, 150 and *False* if the value is less than 150\n",
        "\n",
        "### What if there is more than one option?\n",
        "If you ask someone their age, then there may be a number of different things you can print depending on what it is:  \n",
        "\n",
        "Run the code in the cell below, try some different ages to get different results.    "
      ]
    },
    {
      "cell_type": "code",
      "metadata": {
        "id": "cKKbVayNvKU_"
      },
      "source": [
        "def age_to_drive():\n",
        "    age = int(input(\"Please enter your age\"))\n",
        "    if age >= 17:\n",
        "        print(\"You are old enough to drive\")\n",
        "    elif age >= 13:\n",
        "        print(\"You are too young to drive but you are old enough to have a social media account\")\n",
        "    else:\n",
        "        print(\"You are too young to drive and to have a social media account\")\n",
        "\n",
        "age_to_drive()"
      ],
      "execution_count": null,
      "outputs": []
    },
    {
      "cell_type": "markdown",
      "metadata": {
        "id": "t8-NQ7QevL3z"
      },
      "source": [
        "Here's another example, try this one out:    \n",
        "*  ask the user to enter their **name**.    \n",
        "*  if their `name` is Bill then print \"Where is Ben?\"  \n",
        "*  if their `name` is Ben print \"Where is Bill?\"  \n",
        "*  otherwise print \"Where are Bill and Ben?\"  "
      ]
    },
    {
      "cell_type": "code",
      "metadata": {
        "id": "lY9VVvQQvuM9",
        "outputId": "0a75328f-ce60-4b66-dbad-e261c0c977b3",
        "colab": {
          "base_uri": "https://localhost:8080/"
        }
      },
      "source": [
        "def bill_or_ben():\n",
        "    name = input(\"What is your name?\")\n",
        "    if name == \"Bill\":\n",
        "      print(\"Where is Ben?\")\n",
        "    elif name == \"Ben\":\n",
        "      print(\"Where is Bill?\")\n",
        "    else:\n",
        "      print(\"Where are Bill and Ben?\")\n",
        "\n",
        "bill_or_ben()"
      ],
      "execution_count": 4,
      "outputs": [
        {
          "output_type": "stream",
          "name": "stdout",
          "text": [
            "What is your name?ben\n",
            "Where are Bill and Ben?\n"
          ]
        }
      ]
    },
    {
      "cell_type": "markdown",
      "metadata": {
        "id": "-ouEfBiaqKc7"
      },
      "source": [
        "---\n",
        "### Exercise 1  - if and else\n",
        "\n",
        "Write a function called **find_greater()** which will:\n",
        "\n",
        "*  ask the user for 2 numbers (**num1** and **num2**)  \n",
        "*  use an if statement that compares the two numbers and prints the one that is the greater of the two.  "
      ]
    },
    {
      "cell_type": "code",
      "metadata": {
        "id": "BIhqeCOHpzOS",
        "outputId": "5b015999-47d8-4efd-b3d0-c00e808550ed",
        "colab": {
          "base_uri": "https://localhost:8080/"
        }
      },
      "source": [
        "def find_greater():\n",
        "  num1 = input(\"Enter Number 1: \")\n",
        "  num2 = input(\"Enter Number 2: \")\n",
        "  if num1 > num2: \n",
        "    print(num1) \n",
        "  else:\n",
        "    print(num2)\n",
        "find_greater()"
      ],
      "execution_count": 8,
      "outputs": [
        {
          "output_type": "stream",
          "name": "stdout",
          "text": [
            "Enter Number 1: 6\n",
            "Enter Number 2: 9\n",
            "9\n"
          ]
        }
      ]
    },
    {
      "cell_type": "markdown",
      "metadata": {
        "id": "vkKL17eFy_R-"
      },
      "source": [
        "---\n",
        "### Exercise 2 - \n",
        "\n",
        "Write a function called **guess_number(random_number)** which will use the generated **random_number**, between 1 and 100, provided in the brackets (called a parameter):  \n",
        "\n",
        "*  ask the user to **guess** the `random_number`  \n",
        "*  if the `guess` is greater than the `random_number` print \"Too high\"  \n",
        "*  else if the `guess` is less than the `random_number` print \"Too low\"  \n"
      ]
    },
    {
      "cell_type": "code",
      "metadata": {
        "id": "hmKpcdRv0UOd",
        "outputId": "6f48188f-ca7c-49bb-bbd0-c3efee780b21",
        "colab": {
          "base_uri": "https://localhost:8080/"
        }
      },
      "source": [
        "from random import randint\n",
        "\n",
        "def guess_number(randomNumber):\n",
        "  # add your code below here\n",
        "  guess = int(input(\"Enter a random number between 1-100: \"))\n",
        "  if guess > randomNumber:\n",
        "    print (\"Too high\")\n",
        "  else:\n",
        "    print (\"Too low\")\n",
        "guess_number(randint(1,100))"
      ],
      "execution_count": 10,
      "outputs": [
        {
          "output_type": "stream",
          "name": "stdout",
          "text": [
            "Enter a random number between 1-100: 78\n",
            "Too low\n"
          ]
        }
      ]
    },
    {
      "cell_type": "markdown",
      "metadata": {
        "id": "70COtAzd0UcZ"
      },
      "source": [
        "---\n",
        "### Exercise 3 - AM or PM\n",
        "\n",
        "Write a function called **is_afternoon()** which will:\n",
        "\n",
        "*  ask the user to enter the **time** in 24 hour clock format (e.g. 1759)  \n",
        "*  use floor division (by 100) to calculate the **hour**  \n",
        "*  use modulus (100) to calculate the **minutes**  \n",
        "*  if the **hour** is 12 or greater, assign \"PM\" to a variable called **am_pm** AND subtract 12 from `hour` and store the result back in `hour`  \n",
        "*  else assign \"AM\" to the `am_pm` variable   \n",
        "*  assign the value str(`hour`) + \":\" + str(`minutes`) + `am_pm` to a new variable called **text_time**  \n",
        "*  print the message \"The time is\", `text_time`    \n",
        "\n",
        "Test input:  \n",
        "1759  \n",
        "\n",
        "Expected output:  \n",
        "The time is 5:59PM  \n",
        "\n",
        "Test input:  \n",
        "1132  \n",
        "\n",
        "Expected output:  \n",
        "The time is 11:32AM"
      ]
    },
    {
      "cell_type": "code",
      "metadata": {
        "id": "FCVRtwjd2ZnH",
        "outputId": "6c70b6a2-877c-4de7-88e7-a4d293c07186",
        "colab": {
          "base_uri": "https://localhost:8080/"
        }
      },
      "source": [
        "def is_afternoon():\n",
        "  time = int(input(\"Enter time in HHMM: \"))\n",
        "  hour = time // 100\n",
        "  minutes = time % 100\n",
        "  if hour >= 12: \n",
        "    am_pm = \"PM\"\n",
        "    hour = hour - 12\n",
        "  else:\n",
        "    am_pm = \"AM\"\n",
        "  text_time = str(hour) + \":\" + str(minutes) + am_pm\n",
        "  print (\"This time is\", text_time)\n",
        "\n",
        "is_afternoon()\n",
        "        \n",
        "\n",
        "    "
      ],
      "execution_count": 15,
      "outputs": [
        {
          "output_type": "stream",
          "name": "stdout",
          "text": [
            "Enter time in HHMM: 1345\n",
            "This time is 1:45PM\n"
          ]
        }
      ]
    },
    {
      "cell_type": "markdown",
      "metadata": {
        "id": "pMnxknLW3XlM"
      },
      "source": [
        "---\n",
        "### Exercise 4 - Getting a number within limits\n",
        "\n",
        "Write a function called **validate()** which will:\n",
        "\n",
        "*  ask the user to enter a **number** between 1 and 100  \n",
        "*  if the `number` is less than 1 or more than 100, print the error message \"Number out of limits\"  \n",
        "*  else print \"Your number was\" followed by the `number`\n",
        "\n",
        "Test input:  \n",
        "50  \n",
        "\n",
        "Expected output:  \n",
        "Your number was 50  \n",
        "\n",
        "Test input:  \n",
        "150  \n",
        "\n",
        "Expected output:  \n",
        "Number out of limits"
      ]
    },
    {
      "cell_type": "code",
      "metadata": {
        "id": "cO7r4kYY3_aA",
        "outputId": "1dd1029b-93dc-4380-d93f-b6ac0c5fbf6e",
        "colab": {
          "base_uri": "https://localhost:8080/"
        }
      },
      "source": [
        "def validate():\n",
        "  number = int(input(\"Enter a number between 1-100: \"))\n",
        "  if number < 1:\n",
        "    print(\"Number out of limits\")\n",
        "  elif number > 100:\n",
        "    print(\"Number out of limits\")\n",
        "  else:\n",
        "    print(\"Your number was\", number)\n",
        "validate()"
      ],
      "execution_count": 26,
      "outputs": [
        {
          "output_type": "stream",
          "name": "stdout",
          "text": [
            "Enter a number between 1-100: 150\n",
            "Number out of limits\n"
          ]
        }
      ]
    },
    {
      "cell_type": "markdown",
      "metadata": {
        "id": "R_42ktqd6m-O"
      },
      "source": [
        "---\n",
        "### Exercise 5 - positive or negative\n",
        "\n",
        "Write a function called **report_pos_or_neg()** which will:  \n",
        "\n",
        "*  ask a user to input a **number**  \n",
        "*  if the `number` is greater than 0, print `number` \"is a positive number\"\n",
        "*  otherwise if it is less than 0 print `number` \"is a negative number  \n",
        "*  otherwise print `number` \"is neither positive or negative\"\n",
        "\n",
        "Test Inputs:  \n",
        "0  \n",
        "50  \n",
        "-50\n",
        "\n",
        "Expected outputs:\n",
        "0 is neither positive or negative  \n",
        "50 is a positive number  \n",
        "-50 is a negative number  "
      ]
    },
    {
      "cell_type": "code",
      "metadata": {
        "id": "g2V-Ft_S8W6u",
        "outputId": "33333b61-b81a-4cd1-841e-6039d12d696b",
        "colab": {
          "base_uri": "https://localhost:8080/"
        }
      },
      "source": [
        "def report_pos_or_neg():\n",
        "  number = int(input(\"Enter a number: \"))\n",
        "  if number > 0:\n",
        "    print (number, \"is a positive number\")\n",
        "  elif number < 0:\n",
        "    print (number, \"is a negative number\")\n",
        "  else:\n",
        "    print (number, \"is neither positive or negative\")\n",
        "report_pos_or_neg()\n"
      ],
      "execution_count": 31,
      "outputs": [
        {
          "output_type": "stream",
          "name": "stdout",
          "text": [
            "Enter a number: -50\n",
            "-50 is a negative number\n"
          ]
        }
      ]
    }
  ]
}